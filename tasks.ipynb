{
  "nbformat": 4,
  "nbformat_minor": 0,
  "metadata": {
    "colab": {
      "provenance": [],
      "authorship_tag": "ABX9TyN3Mx/E/bgP8zBzCPimNApk",
      "include_colab_link": true
    },
    "kernelspec": {
      "name": "python3",
      "display_name": "Python 3"
    },
    "language_info": {
      "name": "python"
    }
  },
  "cells": [
    {
      "cell_type": "markdown",
      "metadata": {
        "id": "view-in-github",
        "colab_type": "text"
      },
      "source": [
        "<a href=\"https://colab.research.google.com/github/premsagar32/data-science-practice/blob/main/tasks.ipynb\" target=\"_parent\"><img src=\"https://colab.research.google.com/assets/colab-badge.svg\" alt=\"Open In Colab\"/></a>"
      ]
    },
    {
      "cell_type": "markdown",
      "source": [
        "\n",
        "**DAY 1**"
      ],
      "metadata": {
        "id": "b7knkRw7Ja-C"
      }
    },
    {
      "cell_type": "code",
      "source": [
        "name = \"prem\"\n",
        "age = 21\n",
        "print(\"my name is :\", name , \"age is :\", age )\n",
        "\n",
        "x = 10\n",
        "y = 20\n",
        "print(\"add\", x+y)\n",
        "print(\"sub\", x-y)\n",
        "print(\"mul\",x*y)\n",
        "print(\"div\",x/y)\n",
        "\n",
        "name = \"harsha\"\n",
        "print(\"welcome\", name)"
      ],
      "metadata": {
        "colab": {
          "base_uri": "https://localhost:8080/"
        },
        "id": "XEAcQPNLJU-C",
        "outputId": "8937edc7-25a3-4f50-ed88-8378453a5cf4"
      },
      "execution_count": null,
      "outputs": [
        {
          "output_type": "stream",
          "name": "stdout",
          "text": [
            "my name is : prem age is : 21\n",
            "add 30\n",
            "sub -10\n",
            "mul 200\n",
            "div 0.5\n",
            "welcome harsha\n"
          ]
        }
      ]
    },
    {
      "cell_type": "markdown",
      "source": [
        "**DAY 2**"
      ],
      "metadata": {
        "id": "9M2NL7TKLHfD"
      }
    },
    {
      "cell_type": "code",
      "source": [
        "name = \"prem\"\n",
        "age = 20\n",
        "marks = [1,2,3]\n",
        "print(name,age,marks[1])\n",
        "\n",
        "note = \"you are good looking\"\n",
        "print(\"length\",len(note))\n",
        "print(\"slicing\",note[1:5])\n",
        "print(\"uppercase\",note.upper())\n",
        "print(\"lowercase\",note.lower())\n",
        "print(\"replace\",note.replace(\"y\",\"u\"))\n",
        "print(\"find\",note.find(\"o\"))\n",
        " #TASK\n",
        "fruits =[\"banana\", \"apple\", \"pineapple\", \"graps\", \"dragon\"]\n",
        "print(fruits[0],fruits[1],fruits[2],fruits[3],fruits[4])\n",
        "\n",
        "myDist = {\"name\": \"prema\", age: 21, \"course\":\"datascience\"}\n",
        "print(myDist[\"name\"])\n",
        "print(myDist[age])\n",
        "print(myDist[\"course\"])\n",
        "\n",
        "text = \"its a new book\"\n",
        "print(text.upper())\n",
        "print(text.lower())"
      ],
      "metadata": {
        "id": "ATM2MLibLNZq",
        "colab": {
          "base_uri": "https://localhost:8080/"
        },
        "outputId": "9fba4470-31ee-4a2e-8eb2-055042502b8e"
      },
      "execution_count": 28,
      "outputs": [
        {
          "output_type": "stream",
          "name": "stdout",
          "text": [
            "prem 20 2\n",
            "length 20\n",
            "slicing ou a\n",
            "uppercase YOU ARE GOOD LOOKING\n",
            "lowercase you are good looking\n",
            "replace uou are good looking\n",
            "find 1\n",
            "banana apple pineapple graps dragon\n",
            "prema\n",
            "21\n",
            "datascience\n",
            "ITS A NEW BOOK\n",
            "its a new book\n"
          ]
        }
      ]
    },
    {
      "cell_type": "markdown",
      "source": [
        "**DAY 3**"
      ],
      "metadata": {
        "id": "3VGc7p-6hKLe"
      }
    },
    {
      "cell_type": "code",
      "source": [],
      "metadata": {
        "id": "_iAkKV05hGoH"
      },
      "execution_count": null,
      "outputs": []
    }
  ]
}