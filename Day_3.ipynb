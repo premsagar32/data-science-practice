{
  "nbformat": 4,
  "nbformat_minor": 0,
  "metadata": {
    "colab": {
      "provenance": [],
      "authorship_tag": "ABX9TyPrjOKZCkMMe5OZMOjEX1qA",
      "include_colab_link": true
    },
    "kernelspec": {
      "name": "python3",
      "display_name": "Python 3"
    },
    "language_info": {
      "name": "python"
    }
  },
  "cells": [
    {
      "cell_type": "markdown",
      "metadata": {
        "id": "view-in-github",
        "colab_type": "text"
      },
      "source": [
        "<a href=\"https://colab.research.google.com/github/premsagar32/data-science-practice/blob/main/Day_3.ipynb\" target=\"_parent\"><img src=\"https://colab.research.google.com/assets/colab-badge.svg\" alt=\"Open In Colab\"/></a>"
      ]
    },
    {
      "cell_type": "markdown",
      "source": [
        "**DAY 3**"
      ],
      "metadata": {
        "id": "UXsZYImO703p"
      }
    },
    {
      "cell_type": "code",
      "source": [
        "light = input(\"what color light is there:\")\n",
        "if light==\"red\":\n",
        "  print(\"you can't go now\")\n",
        "if light==\"orange\":\n",
        "  print(\"go slow\")\n",
        "if light==\"green\":\n",
        "  print(\"you can go now\")\n",
        "\n",
        "marks = int(input(\"enter marks of student:\"))\n",
        "if marks>=90:\n",
        "  print(\"excellent\")\n",
        "if marks>=75:\n",
        "  print(\"good\")\n",
        "if marks>=50:\n",
        "  print(\"average\")\n",
        "if marks<50:\n",
        "  print(\"fail\")\n",
        "\n",
        "password = int(input(\"Enter the passcode:\"))\n",
        "if password==1234:\n",
        "  print(\"you are logged in, Welcome!\")\n",
        "else:\n",
        "  print(\"Retry\")"
      ],
      "metadata": {
        "colab": {
          "base_uri": "https://localhost:8080/"
        },
        "id": "km1kx6sV7-OB",
        "outputId": "899c687b-72ea-4206-eb88-54a355dfd27b"
      },
      "execution_count": 3,
      "outputs": [
        {
          "output_type": "stream",
          "name": "stdout",
          "text": [
            "what color light is there:green\n",
            "you can go now\n",
            "enter marks of student:10\n",
            "fail\n",
            "Enter the passcode:12\n",
            "Retry\n"
          ]
        }
      ]
    }
  ]
}